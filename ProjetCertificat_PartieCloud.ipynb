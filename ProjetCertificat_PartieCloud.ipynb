{
 "metadata": {
  "language_info": {
   "codemirror_mode": {
    "name": "ipython",
    "version": 3
   },
   "file_extension": ".py",
   "mimetype": "text/x-python",
   "name": "python",
   "nbconvert_exporter": "python",
   "pygments_lexer": "ipython3",
   "version": "3.7.4-final"
  },
  "orig_nbformat": 2,
  "kernelspec": {
   "name": "python3",
   "display_name": "Python 3",
   "language": "python"
  }
 },
 "nbformat": 4,
 "nbformat_minor": 2,
 "cells": [
  {
   "cell_type": "code",
   "execution_count": 1,
   "metadata": {},
   "outputs": [],
   "source": [
    "import ec2_setup as ec2\n",
    "import utils\n",
    "import paramiko\n",
    "import deploy_spark as spark\n",
    "import exec_spark"
   ]
  },
  {
   "cell_type": "code",
   "execution_count": 2,
   "metadata": {},
   "outputs": [
    {
     "output_type": "stream",
     "name": "stdout",
     "text": [
      "Successfully created the directory /home/aymen/.CertifProjet\n",
      "Wrote private key to /home/aymen/.CertifProjet/CertifProjet-key.pem.\n"
     ]
    }
   ],
   "source": [
    "ec2.create_cluster()"
   ]
  },
  {
   "cell_type": "code",
   "execution_count": 3,
   "metadata": {},
   "outputs": [
    {
     "output_type": "stream",
     "name": "stdout",
     "text": [
      "SSH session established with host unbuntu@18.188.35.148\n",
      "SSH session established with host unbuntu@3.15.28.91\n",
      "SSH session to host unbuntu@3.15.28.91 closed\n",
      "SSH session established with host unbuntu@18.191.213.137\n",
      "SSH session to host unbuntu@18.191.213.137 closed\n",
      "SSH session established with host unbuntu@18.221.121.39\n",
      "SSH session to host unbuntu@18.221.121.39 closed\n",
      "SSH session established with host unbuntu@3.137.208.236\n",
      "SSH session to host unbuntu@3.137.208.236 closed\n",
      "Successfully copied public key on slaves.\n",
      "Cluster is running.\n"
     ]
    }
   ],
   "source": [
    "running_instances = utils.get_running_instances()\n",
    "utils.setup_network(running_instances)\n",
    "print(\"Cluster is running.\")"
   ]
  },
  {
   "cell_type": "code",
   "execution_count": 4,
   "metadata": {},
   "outputs": [
    {
     "output_type": "stream",
     "name": "stdout",
     "text": [
      "SSH session established with host unbuntu@18.188.35.148\n",
      "\tSSH session established with host unbuntu@3.15.28.91\n",
      "\tSSH session established with host unbuntu@18.191.213.137\n",
      "\tSSH session established with host unbuntu@18.221.121.39\n",
      "\tSSH session established with host unbuntu@3.137.208.236\n",
      "Spark deployed successfully !\n"
     ]
    }
   ],
   "source": [
    "vm_instances = utils.get_running_instances()\n",
    "\n",
    "spark.deploy_spark(vm_instances)\n",
    "\n",
    "print(\"Spark deployed successfully !\")"
   ]
  },
  {
   "cell_type": "code",
   "execution_count": 5,
   "metadata": {},
   "outputs": [
    {
     "output_type": "stream",
     "name": "stdout",
     "text": [
      "SSH session established with host unbuntu@18.188.35.148\n",
      "cat: write error: No space left on device\n",
      "------------------------------\n",
      "Execution time in ms :26905\n",
      "------------------------------\n",
      "SSH session to host unbuntu@18.188.35.148 closed\n",
      "Spark execution finished !\n"
     ]
    }
   ],
   "source": [
    "vm_instances = utils.get_running_instances()\n",
    "\n",
    "master = utils.get_master(vm_instances)\n",
    "master.ssh = utils.connect_ssh(master.public_ip_address)\n",
    "\n",
    "exec_spark.start_and_compute(master.ssh, master.public_ip_address)\n",
    "\n",
    "master.ssh.close()\n",
    "print(f\"SSH session to host unbuntu@{ master.public_ip_address } closed\")\n",
    "\n",
    "print(\"Spark execution finished !\")"
   ]
  },
  {
   "cell_type": "code",
   "execution_count": null,
   "metadata": {},
   "outputs": [],
   "source": []
  }
 ]
}