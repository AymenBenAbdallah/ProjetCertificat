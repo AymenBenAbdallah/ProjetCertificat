{
 "metadata": {
  "language_info": {
   "codemirror_mode": {
    "name": "ipython",
    "version": 3
   },
   "file_extension": ".py",
   "mimetype": "text/x-python",
   "name": "python",
   "nbconvert_exporter": "python",
   "pygments_lexer": "ipython3",
   "version": "3.7.4-final"
  },
  "orig_nbformat": 2,
  "kernelspec": {
   "name": "python3",
   "display_name": "Python 3",
   "language": "python"
  }
 },
 "nbformat": 4,
 "nbformat_minor": 2,
 "cells": [
  {
   "cell_type": "code",
   "execution_count": 4,
   "metadata": {},
   "outputs": [],
   "source": [
    "import ec2_setup as ec2\n",
    "import utils\n",
    "import paramiko\n",
    "import deploy_spark as spark"
   ]
  },
  {
   "cell_type": "code",
   "execution_count": 2,
   "metadata": {},
   "outputs": [
    {
     "output_type": "stream",
     "name": "stdout",
     "text": [
      "Your public IP address is 176.145.64.156. This will be used to grant SSH access to the Amazon EC2 instance.\n",
      "Successfully created the directory /home/aymen/.CertifProjet\n",
      "Wrote private key to /home/aymen/.CertifProjet/CertifProjet-key.pem.\n",
      "Created a key pair CertifProjet-key and saved the private key to ~/.CertifProjet/CertifProjet-key.pem\n",
      "Created a VPC with ID vpc-0b1950aef719a34b7 and subnet 10.0.0.0/24\n",
      "Created security group CertifProjet-1612114383806190908 in VPC vpc-0b1950aef719a34b7.\n",
      "Your public IP address is 176.145.64.156. This will be used to grant SSH access to the Amazon EC2 instance.\n",
      "Set inbound rules for sg-0d5fac95bdb376eea to allow all inbound HTTP and HTTPS\n",
      "        but only 176.145.64.156/32 for SSH.\n",
      "        \n",
      "Created security group CertifProjet-1612114383806190908 that allows SSH, HTTP and HTTPS access from 176.145.64.156.\n",
      "Creating instances, please wait...\n",
      "Instance i-0301e96bc5abe6a62 created !\n",
      "\tAvailable at ec2-3-138-142-39.us-east-2.compute.amazonaws.com (3.138.142.39).\n",
      "Instance i-08ff405fb64ff8bc4 created !\n",
      "\tAvailable at ec2-18-224-8-34.us-east-2.compute.amazonaws.com (18.224.8.34).\n",
      "Instance i-023e54c6542832ce3 created !\n",
      "\tAvailable at ec2-52-14-75-7.us-east-2.compute.amazonaws.com (52.14.75.7).\n"
     ]
    }
   ],
   "source": [
    "ec2.create_cluster()"
   ]
  },
  {
   "cell_type": "code",
   "execution_count": 3,
   "metadata": {},
   "outputs": [
    {
     "output_type": "stream",
     "name": "stdout",
     "text": [
      "SSH session established with host unbuntu@3.138.142.39\n",
      "\tGenerated a key pair for intra-cluster communication.\n",
      "SSH session to host unbuntu@3.138.142.39 closed\n",
      "SSH session established with host unbuntu@52.14.75.7\n",
      "\tCopying cluster public key...Done\n",
      "SSH session to host unbuntu@52.14.75.7 closed\n",
      "SSH session established with host unbuntu@18.224.8.34\n",
      "\tCopying cluster public key...Done\n",
      "SSH session to host unbuntu@18.224.8.34 closed\n",
      "Successfully copied public key on slaves.\n",
      "Cluster is running.\n"
     ]
    }
   ],
   "source": [
    "running_instances = utils.get_running_instances()\n",
    "utils.setup_network(running_instances)\n",
    "print(\"Cluster is running.\")"
   ]
  },
  {
   "cell_type": "code",
   "execution_count": 5,
   "metadata": {},
   "outputs": [
    {
     "output_type": "stream",
     "name": "stdout",
     "text": [
      "SSH session established with host unbuntu@3.138.142.39\n",
      "Setting up master node NFS... Done\n",
      "Download Spark and dependancies... Done\n",
      "Configuring master node environment... Done\n",
      "Setting up master node Hadoop configuration... Done\n",
      "Setting up master node Spark configuration... Done\n",
      "Configuring slave nodes... \n",
      "\tSSH session established with host unbuntu@52.14.75.7\n",
      "\tSSH session to host unbuntu@52.14.75.7 closed\n",
      "\tSSH session established with host unbuntu@18.224.8.34\n",
      "\tSSH session to host unbuntu@18.224.8.34 closed\n",
      "Done\n",
      "SSH session to host unbuntu@3.138.142.39 closed\n",
      "Spark deployed successfully !\n"
     ]
    }
   ],
   "source": [
    "vm_instances = utils.get_running_instances()\n",
    "\n",
    "spark.deploy_spark(vm_instances)\n",
    "\n",
    "print(\"Spark deployed successfully !\")"
   ]
  },
  {
   "cell_type": "code",
   "execution_count": null,
   "metadata": {},
   "outputs": [],
   "source": []
  }
 ]
}