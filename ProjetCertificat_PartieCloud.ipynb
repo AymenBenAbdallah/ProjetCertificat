{
 "metadata": {
  "language_info": {
   "codemirror_mode": {
    "name": "ipython",
    "version": 3
   },
   "file_extension": ".py",
   "mimetype": "text/x-python",
   "name": "python",
   "nbconvert_exporter": "python",
   "pygments_lexer": "ipython3",
   "version": 3
  },
  "orig_nbformat": 2
 },
 "nbformat": 4,
 "nbformat_minor": 2,
 "cells": [
  {
   "cell_type": "code",
   "execution_count": null,
   "metadata": {},
   "outputs": [],
   "source": [
    "import utils\n",
    "\n",
    "# Number of instances to create (at least 2) \n",
    "nb_instances = 3\n",
    "# Private subnet range\n",
    "private_subnet = '10.0.0.0/24'\n",
    "# The type of instance to use\n",
    "instance_type = \"t2.medium\"\n",
    "\n",
    "\n",
    "def create_cluster():\n",
    "    \"\"\"\n",
    "    Sets up prerequisites and creates instances used in the project.\n",
    "    When this function returns, the instances are running and ready to use.\n",
    "    \"\"\"\n",
    "    # Get current external IP\n",
    "    current_ip_address = utils.get_ext_ip()\n",
    "\n",
    "    # Retrieve Ubuntu 20.04 LTS amd64 image id\n",
    "    image_id = utils.get_image_id(\"/aws/service/canonical/ubuntu/server/20.04/stable/current/amd64/hvm/ebs-gp2/ami-id\")\n",
    "\n",
    "    # Create key pair\n",
    "    key_pair = create_key_pair()\n",
    "    print(f\"Created a key pair {key_pair.key_name} and saved the private key to ~/.cbdproject/{key_pair.key_name}.pem\")\n",
    "\n",
    "    # Create VPC and subnet\n",
    "    vpc, subnet = create_vpc()\n",
    "    vpc.wait_until_available()\n",
    "    print(f\"Created a VPC with ID {vpc.id} and subnet {subnet.cidr_block}\")\n",
    "\n",
    "    # Create security group\n",
    "    sec_group = create_sg(vpc)\n",
    "    print(f\"Created security group {sec_group.group_name} that allows SSH, HTTP and HTTPS access from {current_ip_address}.\")\n",
    "\n",
    "    vm_instances = {}\n",
    "\n",
    "    print(\"Creating instances, please wait...\")\n",
    "\n",
    "    for i in range(nb_instances):\n",
    "        vm_instances[f'instance_{i}'] = create_instance(image_id, f\"cbdproject-inst-{i}\", key_pair.key_name, subnet.id, sec_group.group_id)\n",
    "\n",
    "    running_waiter = utils.ec2_client.get_waiter(\"instance_status_ok\")\n",
    "    running_waiter.wait(InstanceIds=[i.instance_id for i in vm_instances.values()])\n",
    "    \n",
    "    for i in vm_instances.values():\n",
    "        i.load()\n",
    "        print(f\"Instance {i.instance_id} created !\")\n",
    "        print(f\"\\tAvailable at {i.public_dns_name} ({i.public_ip_address}).\")"
   ]
  }
 ]
}