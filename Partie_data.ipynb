{
  "nbformat": 4,
  "nbformat_minor": 0,
  "metadata": {
    "kernelspec": {
      "display_name": "Python 3",
      "language": "python",
      "name": "python3"
    },
    "language_info": {
      "codemirror_mode": {
        "name": "ipython",
        "version": 3
      },
      "file_extension": ".py",
      "mimetype": "text/x-python",
      "name": "python",
      "nbconvert_exporter": "python",
      "pygments_lexer": "ipython3",
      "version": "3.8.3"
    },
    "colab": {
      "name": "Projet de fin de module Sensibilisation CBD.ipynb",
      "provenance": []
    }
  },
  "cells": [
    {
      "cell_type": "markdown",
      "metadata": {
        "id": "zyn__d5rLHDO"
      },
      "source": [
        "# Projet de fin de module Sensibilisation : Développement d'un algorithme avec Spark\n"
      ]
    },
    {
      "cell_type": "markdown",
      "metadata": {
        "id": "ufRzZyQNLHDS"
      },
      "source": [
        "#### Cheik Ouedraogo, Aymen Ben Abdallah & Elvire Heux "
      ]
    },
    {
      "cell_type": "markdown",
      "metadata": {
        "id": "HGqOWazhLHDT"
      },
      "source": [
        "## Objectif du projet\n",
        "Il s'agit de développer en Spark une méthode de gradient, dans le but de résoudre un problème de filtrage collaboratif, et de la comparer avec une méthode de la librairie MLIB. Ce Notebook a pour but le développement et la validation de l'approche, avant intégration et exploitation dans le cadre de l'infrastructure développée dans le projet. Pour information, de nombreuses versions de ce problème existent sur le web."
      ]
    },
    {
      "cell_type": "markdown",
      "metadata": {
        "id": "ruCVD3RCLHDU"
      },
      "source": [
        "## Position du problème\n",
        "Nous avons à notre disposition un RDD \"ratings\" du type (userID, movieID, rating). Les données sont fournies par le fichier `ratings.dat`, stockées  au format ci-joint :\n",
        "```\n",
        "UserID::MovieID::Rating::Timestamp\n",
        "```\n",
        "\n",
        "Ce RDD peut être stocké dans une matrice $R$ où l'on trouve \"rating\" à l'intersection de la ligne \"userID\" et de la colonne \"movieID\".\n",
        "Si la matrice $R$ est de taille $m \\times  n$, nous cherchons $P \\in R^{m,k}$ et $Q \\in R^{n,k}$ telles que $R \\approx \\hat{R} = PQ^T$.\n",
        "Pour cela on considère le problème\n",
        "$$ \\min_{P,Q} \\sum_{i,j : r_{ij} \\text{existe}}  \\ell_{i,j}(R,P,Q), $$\n",
        "où\n",
        "$$  \\ell_{i,j}(R,P,Q)= \\left(r_{ij} - q_{j}^{\\top}p_{i}\\right)^2 + \\lambda(|| p_{i} ||^{2}_2 + || q_{j} ||^2_2 )  $$ et $(p_i)_{1\\leq i\\leq m}$ et $(q_j)_{1\\leq j\\leq n}$ sont les lignes des matrices $P$ et $Q$ respectivement. Le paramètre $\\lambda\\geq 0$ est un paramètre de régularisation.\n",
        "\n",
        "Le problème que nous résolvons ici est un problème dit de \"filtrage collaboratif\", qui permet d'apporter une solution possible du  problème Netflix. Les données sont issues de la base de données  \"The MoviLens Datasets\" :\n",
        "\n",
        "F. Maxwell Harper and Joseph A. Konstan. 2015. The MovieLens Datasets: History and Context. ACM Transactions on Interactive Intelligent Systems (TiiS) 5, 4: 19:1–19:19"
      ]
    },
    {
      "cell_type": "code",
      "metadata": {
        "id": "_57smK-Fqbsb"
      },
      "source": [
        "pip install pyspark"
      ],
      "execution_count": null,
      "outputs": []
    },
    {
      "cell_type": "code",
      "metadata": {
        "id": "ek-YJUidKqvZ"
      },
      "source": [
        "!sudo apt install python3.6-dev"
      ],
      "execution_count": null,
      "outputs": []
    },
    {
      "cell_type": "code",
      "metadata": {
        "id": "yUN5CXiWqxsM"
      },
      "source": [
        "from google.colab import drive"
      ],
      "execution_count": null,
      "outputs": []
    },
    {
      "cell_type": "code",
      "metadata": {
        "id": "KHdhFhokq1B-"
      },
      "source": [
        "drive.mount('content')"
      ],
      "execution_count": null,
      "outputs": []
    },
    {
      "cell_type": "code",
      "metadata": {
        "id": "cNGduoxJLHDW"
      },
      "source": [
        "## Librairies\n",
        "import numpy as np\n",
        "from scipy import sparse\n",
        "\n",
        "## Environnement Spark \n",
        "from pyspark import SparkContext, SparkConf\n",
        "\n",
        "## A modifier/commenter selon votre configuration.\n",
        "import os\n",
        "os.environ['PYSPARK_PYTHON'] = '/usr/bin/python3.6'\n",
        "\n",
        "conf = SparkConf()\n",
        "conf.setMaster(\"local[*]\")\n",
        "conf.setAppName(\"Matrix Factorization\")\n",
        "\n",
        "sc = SparkContext(conf = conf)"
      ],
      "execution_count": null,
      "outputs": []
    },
    {
      "cell_type": "markdown",
      "metadata": {
        "id": "pXjXuZAwLHDX"
      },
      "source": [
        "## Création d'une RDD et premières statistiques sur le jeu de données"
      ]
    },
    {
      "cell_type": "code",
      "metadata": {
        "id": "OYkGmdtzLHDY",
        "colab": {
          "base_uri": "https://localhost:8080/"
        },
        "outputId": "efcbd6a1-3827-4a25-cf3d-b24f949ae77d"
      },
      "source": [
        "# Répertoire contenant le jeu de données\n",
        "movieLensHomeDir= \"/content/content/MyDrive/projet_partie_data/data/\"\n",
        "\n",
        "# ratings est un RDD du type (userID, movieID, rating)\n",
        "def parseRating(line):\n",
        "    fields = line.split('::')\n",
        "    return int(fields[0]), int(fields[1]), float(fields[2])\n",
        "\n",
        "ratingsRDD = sc.textFile(movieLensHomeDir + \"ratings.dat\").map(parseRating).setName(\"ratings\").cache()\n",
        "\n",
        "# Calcul du nombre de ratings\n",
        "numRatings = ratingsRDD.count()\n",
        "# Calcul du nombre d'utilisateurs distincts\n",
        "numUsers = ratingsRDD.map(lambda r: r[0]).distinct().count()\n",
        "# Calcul du nombre de films distincts\n",
        "numMovies = ratingsRDD.map(lambda r: r[1]).distinct().count()\n",
        "print(\"We have %d ratings from %d users on %d movies.\\n\" % (numRatings, numUsers, numMovies))\n",
        "\n",
        "# Dimensions de la matrice R\n",
        "M = ratingsRDD.map(lambda r: r[0]).max()\n",
        "N = ratingsRDD.map(lambda r: r[1]).max()\n",
        "matrixSparsity = float(numRatings)/float(M*N)\n",
        "print(\"We have %d users, %d movies and the rating matrix has %f percent of non-zero value.\\n\" % (M, N, 100*matrixSparsity))"
      ],
      "execution_count": null,
      "outputs": [
        {
          "output_type": "stream",
          "text": [
            "We have 1000209 ratings from 6040 users on 3706 movies.\n",
            "\n",
            "We have 6040 users, 3952 movies and the rating matrix has 4.190221 percent of non-zero value.\n",
            "\n"
          ],
          "name": "stdout"
        }
      ]
    },
    {
      "cell_type": "markdown",
      "metadata": {
        "id": "6cFkLYS_LHDZ"
      },
      "source": [
        ">Nous allons utiliser la routine ALS.train() de la librairie  [MLLib](http://spark.apache.org/docs/latest/ml-guide.html) et en évaluer la performance par un calcul de \" Mean Squared Error\" du  rating de prédiction.\r\n",
        "\r\n",
        "###Question 1\r\n",
        "\r\n",
        "> Commenter les lignes de code suivantes en vous inspirant du code python http://spark.apache.org/docs/latest/mllib-collaborative-filtering.html#collaborative-filtering\r\n"
      ]
    },
    {
      "cell_type": "markdown",
      "metadata": {
        "id": "ixDSw8qYLHDa"
      },
      "source": [
        "Commentaires"
      ]
    },
    {
      "cell_type": "code",
      "metadata": {
        "id": "yw5nTmR5LHDa",
        "colab": {
          "base_uri": "https://localhost:8080/"
        },
        "outputId": "3843ee2d-fe63-40c4-d545-3c242b39aaab"
      },
      "source": [
        "from pyspark.mllib.recommendation import ALS, MatrixFactorizationModel, Rating\n",
        "\n",
        "# Construction du modèle de recommandations depuis l'approche \"Alternating Least Squares\"\n",
        "rank = 10\n",
        "numIterations = 10\n",
        "\n",
        "# Paramètres de la méthode Alternating Least Squares (ALS)\n",
        "# ratings – RDD de Rating ou tuple (userID, productID, rating).\n",
        "# rank – Rang de la matrice modèle.\n",
        "# iterations – Nombre d'itérations. (default: 5)\n",
        "# lambda_ – Paramètre de régularisation. (default: 0.01)\n",
        "model = ALS.train(ratingsRDD, rank, iterations=numIterations, lambda_=0.02)\n",
        "\n",
        "# Evaluation du modèle sur le jeu de données complet\n",
        "testdata = ratingsRDD.map(lambda p: (p[0], p[1])) # RDD de test contenant les données sur les UsersId et les MoviesID\n",
        "predictions = model.predictAll(testdata).map(lambda r: ((r[0], r[1]), r[2])) # Prédire le rating pour chaque couple Users and Movies\n",
        "ratesAndPreds = ratingsRDD.map(lambda r: ((r[0], r[1]), r[2])).join(predictions) # Retourne un RDD de type ((userid, movieId), (rating, predic rating))\n",
        "MSE = ratesAndPreds.map(lambda r: (r[1][0] - r[1][1])**2).mean() # Calcule du MSE \n",
        "print(\"Mean Squared Error = \" + str(MSE)) # Afficher le MSE"
      ],
      "execution_count": null,
      "outputs": [
        {
          "output_type": "stream",
          "text": [
            "Mean Squared Error = 0.58531389589412\n"
          ],
          "name": "stdout"
        }
      ]
    },
    {
      "cell_type": "markdown",
      "metadata": {
        "id": "NJTztHUdLHDb"
      },
      "source": [
        "## Algorithmes de descente de gradient"
      ]
    },
    {
      "cell_type": "markdown",
      "metadata": {
        "id": "SeROBK11Lnn3"
      },
      "source": [
        ">Le but de cette section est  \r\n",
        ">1. de calculer le gradient de la fonction,\r\n",
        ">2. d'implémenter une méthode de gradient,\r\n",
        ">3. de mesurer la précision de cette méthode\r\n",
        "\r\n",
        "###Question 2\r\n",
        "\r\n",
        "> Séparer le jeu de données en un jeu d'apprentissage (70%) et un jeu de test, en utilisant la fonction randomsplit ( http://spark.apache.org/docs/2.0.0/api/python/pyspark.html )\r\n",
        "\r\n",
        "> Compléter la routine ci-dessous qui retourne le \"rating\" prédit. Créer un RDD contenant `(i,j,true rating,predicted rating)`. \r\n",
        "\r\n",
        "> Compléter la routine qui calcule le Mean Square Error (MSE) sur le jeu de données.\r\n",
        "\r\n",
        "> Tester ensuite la routine de MSE en vous donnant les matrices $P$ et $Q$ aléatoires (utiliser np.random.rand(M,K)) et calculer quelques \"ratings\" prédits. "
      ]
    },
    {
      "cell_type": "code",
      "metadata": {
        "id": "KKV0b-pRLHDc"
      },
      "source": [
        "# Séparation du jeu de données en un jeu d'apprentissage et un jeu de test\n",
        "# Taille du jeu d'apprentissage (en %) \n",
        "learningWeight = 0.7\n",
        "# TO DO\n",
        "# Création des RDD \"apprentissage\" et \"test\" depuis la fonction randomsplit\n",
        "testRDD, trainRDD = ratingsRDD.randomSplit([0.3, 0.7])\n",
        "\n",
        "\n",
        "# Calcul du rating prédit.\n",
        "def predictedRating(x, P, Q):\n",
        "  l = np.dot(P[x[0]-1], Q[x[1]-1]) # Calcul le rating predit\n",
        "  return l # Retourner le rating prédit\n",
        "    #### TO DOfirssd\n",
        "\n",
        "# RDD contenant (i,j,true rating,predicted rating)\n",
        "RDD = ratingsRDD.map(lambda r : ((r[0], r[1]), predictedRating((r[0], r[1], r[2]), P, Q)))\n",
        "RDDinter = ratingsRDD.map(lambda r : ((r[0], r[1]), r[2])).join(RDD)\n",
        "RDDfinal = RDDinter.map(lambda r : (r[0][0], r[0][1], r[1][0], r[1][1]))\n",
        "\n",
        "# Calcul de l'erreur MSE \n",
        "def computeMSE(rdd, P, Q):\n",
        "  RDD_Predict = rdd.map(lambda r : ((r[0], r[1]), predictedRating((r[0], r[1], r[2]), P, Q)))\n",
        "  RDD_inter = rdd.map(lambda r : ((r[0], r[1]), r[2])).join(RDD_Predict)\n",
        "  RDD_inter2 = RDD_inter.map(lambda r : (r[0][0], r[0][1], r[1][0], r[1][1]))\n",
        "  MSE1 = RDD_inter2.map(lambda r: (r[2] - r[3])**2).mean()\n",
        "  return MSE1\n",
        "\n",
        "    ##### TO DO"
      ],
      "execution_count": null,
      "outputs": []
    },
    {
      "cell_type": "code",
      "metadata": {
        "id": "NMWi4060LHDc"
      },
      "source": [
        "# Tailles des jeux de données d'apprentissage et de tests.\n",
        "print(\"Size of the training dataset:\", trainRDD.count())\n",
        "print(\"Size of the testing dataset:\", testRDD.count())\n",
        "\n",
        "\n",
        "# Création de matrices aléatoires de dimension (M,K) et (N,K)\n",
        "K = 20 \n",
        "P = np.random.rand(M,K)\n",
        "Q = np.random.rand(N,K)\n",
        "# TO DO\n",
        "\n",
        "# Calcul et affichage de l'erreur MSE pour ces matrices aléatoires\n",
        "#### TO DO\n",
        "print(\"le MSE du training set est de:\" + str(computeMSE(trainRDD, P, Q)))\n",
        "\n",
        "# Affichage de quelques ratings prédits depuis ces matrices\n",
        "#### TO DO\n",
        "print(\"(userID, movieID, rating, predicted)\")\n",
        "RDDfinal.take(3)\n"
      ],
      "execution_count": null,
      "outputs": []
    },
    {
      "cell_type": "markdown",
      "metadata": {
        "id": "YNaGGwpeLHDc"
      },
      "source": [
        "### Question 3 \r\n",
        "\r\n",
        "> Donner la formule des dérivées des fonctions $\\ell_{i,j}$ selon $p_t$ et $q_s$ avec $1\\leq t\\leq m$ et $1\\leq s\\leq n$.\r\n",
        "\r\n",
        "> Commenter et compléter l'implantation de l'algorithme de gradient sur l'ensemble d'apprentissage. Prendre un pas égal à $\\gamma=0.001$ et arrêter sur un nombre maximum d'itérations. \r\n",
        "\r\n",
        "> Commenter les tracés de convergence et des indicateurs de qualité de la prévision en fonction de la dimension latente (rang de $P$ et $Q$)."
      ]
    },
    {
      "cell_type": "code",
      "metadata": {
        "id": "tzrC7nt4LHDd"
      },
      "source": [
        "# Algorithme de descente de gradient pour la factorisation de matrices\n",
        "def GD(trainRDD, K=10, MAXITER=50, GAMMA=0.001, LAMBDA=0.05):\n",
        "    # Construction de la matrice R (creuse)\n",
        "    row=[]\n",
        "    col=[]\n",
        "    data=[]\n",
        "    for part in trainRDD.collect():\n",
        "        row.append(part[0]-1)\n",
        "        col.append(part[1]-1)\n",
        "        data.append(part[2])\n",
        "    R=sparse.csr_matrix((data, (row, col)))\n",
        "    \n",
        "    # Initialisation aléatoire des matrices P et Q\n",
        "    M,N = R.shape\n",
        "    P = np.random.rand(M,K)\n",
        "    Q = np.random.rand(N,K)\n",
        "    \n",
        "    # Calcul de l'erreur MSE initiale\n",
        "    mse=[]\n",
        "    mse_tmp = computeMSE(trainRDD, P, Q)\n",
        "    mse.append([0, mse_tmp])\n",
        "    print(\"epoch: \", str(0), \" - MSE: \", str(mse_tmp))\n",
        "    \n",
        "    # Boucle\n",
        "    nonzero = R.nonzero()\n",
        "    nbNonZero = R.nonzero()[0].size\n",
        "    I,J = nonzero[0], nonzero[1]\n",
        "    for epoch in range(1, MAXITER):\n",
        "        for i,j in zip(I,J):\n",
        "            # Mise à jour de P[i,:] et Q[j,:] par descente de gradient à pas fixe\n",
        "           #### TO DO\n",
        "           P[i,:] = P[i,:] - GAMMA * ((mse_tmp * Q[j,:]) + (LAMBDA * P[i,:]))\n",
        "           Q[j,:] = Q[j,:] - GAMMA * ((mse_tmp * P[i,:]) + (LAMBDA * Q[j,:]))\n",
        "\n",
        "        # Calcul de l'erreur MSE courante, et sauvegarde dans le tableau mse \n",
        "        #### TO DO\n",
        "           mse_tmp = computeMSE(trainRDD, P, Q) \n",
        "           mse.append([epoch, mse_tmp])\n",
        "\n",
        "    return P, Q, mse"
      ],
      "execution_count": null,
      "outputs": []
    },
    {
      "cell_type": "code",
      "metadata": {
        "id": "5JxwgV1oLHDd",
        "colab": {
          "base_uri": "https://localhost:8080/"
        },
        "outputId": "bb1ed57e-25a4-4e70-e2c2-25c7087d8f5e"
      },
      "source": [
        "# Calcul de P, Q et de la mse\n",
        "P,Q,mse = GD(trainRDD, K=10, MAXITER=10, GAMMA=0.001, LAMBDA=0.05)"
      ],
      "execution_count": null,
      "outputs": [
        {
          "output_type": "stream",
          "text": [
            "epoch:  0  - MSE:  2.930798594659605\n"
          ],
          "name": "stdout"
        }
      ]
    },
    {
      "cell_type": "code",
      "metadata": {
        "id": "e_Y2haetaAbE"
      },
      "source": [
        "mse"
      ],
      "execution_count": null,
      "outputs": []
    },
    {
      "cell_type": "code",
      "metadata": {
        "id": "5WI305z6E8FU"
      },
      "source": [
        "# Affichage de l'erreur MSE\r\n",
        "#### TO DO\r\n",
        "import matplotlib.pyplot as plt \r\n",
        "\r\n",
        "for i in range(len(mse)-1):\r\n",
        "  x=mse[i][0]\r\n",
        "  y = mse[i][1] \r\n",
        "plt.plot(x,y)\r\n",
        "plt.ylabel('mse')\r\n",
        "plt.xlabel('epoch')\r\n",
        "plt.show()"
      ],
      "execution_count": null,
      "outputs": []
    },
    {
      "cell_type": "markdown",
      "metadata": {
        "id": "EtuP8AW7LHDe"
      },
      "source": [
        "### Question 4 \n",
        "> Calculer les ratings prédits par la solution de la méthode du gradient dans un RDD\n",
        "\n",
        "> Comparer sur le jeu de test les valeurs prédites aux ratings sur 5 échantillons aléatoires."
      ]
    },
    {
      "cell_type": "code",
      "metadata": {
        "id": "JvObdHi0LHDe"
      },
      "source": [
        "# Calcul et affichage des ratings prédits\n",
        "#### TO DO\n",
        "\n",
        "P,Q,mse = GD(trainRDD, K=10, MAXITER=10, GAMMA=0.001, LAMBDA=0.05)\n",
        "RDD_rating = trainRDD.map(lambda r : ((r[0], r[1]), predictedRating((r[0], r[1], r[2]), P, Q)))\n"
      ],
      "execution_count": null,
      "outputs": []
    }
  ]
}